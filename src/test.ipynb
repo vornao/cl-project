{
 "cells": [
  {
   "cell_type": "code",
   "execution_count": null,
   "metadata": {},
   "outputs": [],
   "source": [
    "from models import MNISTConvNet, MNISTConvNetTrainer, get_mnist_dataloader\n",
    "import matplotlib.pyplot as plt\n",
    "\n",
    "train, val, test = get_mnist_dataloader(128)\n",
    "\n",
    "# print some sample images from the training set with matplotlib\n",
    "fig, axs = plt.subplots(2, 5, figsize=(12, 3))\n",
    "for i, ax in enumerate(axs.flat):\n",
    "    ax.imshow(train.dataset[i][0].squeeze(), cmap='gray')\n",
    "    ax.set_title(f'Label: {train.dataset[i][1]}')\n",
    "\n",
    "model = MNISTConvNet()\n",
    "trainer = MNISTConvNetTrainer(model, train, val, device='mps')\n",
    "\n",
    "trainer.train(num_epochs=10)"
   ]
  },
  {
   "cell_type": "code",
   "execution_count": null,
   "metadata": {},
   "outputs": [],
   "source": [
    "# save the model\n"
   ]
  },
  {
   "cell_type": "code",
   "execution_count": null,
   "metadata": {},
   "outputs": [],
   "source": []
  }
 ],
 "metadata": {
  "kernelspec": {
   "display_name": ".venv",
   "language": "python",
   "name": "python3"
  },
  "language_info": {
   "codemirror_mode": {
    "name": "ipython",
    "version": 3
   },
   "file_extension": ".py",
   "mimetype": "text/x-python",
   "name": "python",
   "nbconvert_exporter": "python",
   "pygments_lexer": "ipython3",
   "version": "3.12.2"
  }
 },
 "nbformat": 4,
 "nbformat_minor": 2
}
