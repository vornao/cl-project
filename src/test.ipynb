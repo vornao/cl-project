{
 "cells": [
  {
   "cell_type": "code",
   "execution_count": 7,
   "metadata": {},
   "outputs": [
    {
     "name": "stdout",
     "output_type": "stream",
     "text": [
      "Model created and moved to mps\n"
     ]
    },
    {
     "name": "stderr",
     "output_type": "stream",
     "text": [
      "100%|██████████| 1/1 [00:05<00:00,  5.45s/it]"
     ]
    },
    {
     "name": "stdout",
     "output_type": "stream",
     "text": [
      "Epoch 1, Loss: 0.26628626838726616, Accuracy: 0.92264, Val Loss: 0.08964797854423523, Val Acc: 0.9739\n"
     ]
    },
    {
     "name": "stderr",
     "output_type": "stream",
     "text": [
      "\n"
     ]
    }
   ],
   "source": [
    "from models import MNISTConvNet, MNISTConvNetTrainer, get_mnist_dataloader\n",
    "\n",
    "\n",
    "train, val, test = get_mnist_dataloader(128)\n",
    "\n",
    "# print some sample images from the training set with matplotlib\n",
    "# import matplotlib.pyplot as plt\n",
    "# fig, axs = plt.subplots(2, 5, figsize=(12, 3))\n",
    "# for i, ax in enumerate(axs.flat):\n",
    "#     ax.imshow(train.dataset[i][0].squeeze(), cmap='gray')\n",
    "#     ax.set_title(f'Label: {train.dataset[i][1]}')\n",
    "\n",
    "model   = MNISTConvNet()\n",
    "trainer = MNISTConvNetTrainer(model, train, val, device='mps')\n",
    "\n",
    "trainer.train(num_epochs=1)"
   ]
  },
  {
   "cell_type": "code",
   "execution_count": 8,
   "metadata": {},
   "outputs": [
    {
     "data": {
      "text/plain": [
       "odict_keys(['conv1.weight', 'conv1.bias', 'conv2.weight', 'conv2.bias', 'fc1.weight', 'fc1.bias', 'fc2.weight', 'fc2.bias'])"
      ]
     },
     "execution_count": 8,
     "metadata": {},
     "output_type": "execute_result"
    }
   ],
   "source": [
    "state = model.state_dict()\n",
    "state.keys()"
   ]
  },
  {
   "cell_type": "code",
   "execution_count": null,
   "metadata": {},
   "outputs": [],
   "source": [
    "# save the model\n",
    "trainer.save_model('../models/mnist_cnn_model.pth')"
   ]
  },
  {
   "cell_type": "code",
   "execution_count": null,
   "metadata": {},
   "outputs": [],
   "source": []
  }
 ],
 "metadata": {
  "kernelspec": {
   "display_name": ".venv",
   "language": "python",
   "name": "python3"
  },
  "language_info": {
   "codemirror_mode": {
    "name": "ipython",
    "version": 3
   },
   "file_extension": ".py",
   "mimetype": "text/x-python",
   "name": "python",
   "nbconvert_exporter": "python",
   "pygments_lexer": "ipython3",
   "version": "3.12.2"
  }
 },
 "nbformat": 4,
 "nbformat_minor": 2
}
