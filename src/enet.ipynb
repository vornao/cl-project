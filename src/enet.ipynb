{
 "cells": [
  {
   "cell_type": "code",
   "execution_count": 1,
   "metadata": {},
   "outputs": [
    {
     "name": "stdout",
     "output_type": "stream",
     "text": [
      "Files already downloaded and verified\n"
     ]
    },
    {
     "name": "stderr",
     "output_type": "stream",
     "text": [
      "/Users/vornao/Desktop/unipi/CL/project/.venv/lib/python3.12/site-packages/torchvision/models/_utils.py:208: UserWarning: The parameter 'pretrained' is deprecated since 0.13 and may be removed in the future, please use 'weights' instead.\n",
      "  warnings.warn(\n",
      "/Users/vornao/Desktop/unipi/CL/project/.venv/lib/python3.12/site-packages/torchvision/models/_utils.py:223: UserWarning: Arguments other than a weight enum or `None` for 'weights' are deprecated since 0.13 and may be removed in the future. The current behavior is equivalent to passing `weights=None`.\n",
      "  warnings.warn(msg)\n"
     ]
    }
   ],
   "source": [
    "import torch\n",
    "import torch.nn as nn\n",
    "from utils import get_cifar10_dataloader\n",
    "from models import ConvNetTrainer\n",
    "# import efficientnet from torchvision models\n",
    "from torchvision.models import efficientnet\n",
    "\n",
    "train, valid, test = get_cifar10_dataloader(512)\n",
    "model = efficientnet.efficientnet_b0(pretrained=False)"
   ]
  },
  {
   "cell_type": "code",
   "execution_count": 2,
   "metadata": {},
   "outputs": [
    {
     "name": "stdout",
     "output_type": "stream",
     "text": [
      "Using AdamW\n",
      "Model created and moved to mps\n"
     ]
    }
   ],
   "source": [
    "# change the last layer to fit CIFAR10\n",
    "# load model from saved weights\n",
    "model.classifier[1] = nn.Linear(model.classifier[1].in_features, 10)\n",
    "# try:\n",
    "#     model.load_state_dict(torch.load('../models/efficientnet_b0.pth'))\n",
    "# except:\n",
    "#     print('No weights found for EfficientNet B0')\n",
    "\n",
    "trainer = ConvNetTrainer(\n",
    "    model=model, \n",
    "    optimizer='AdamW',\n",
    "    lr=1e-2, \n",
    "    weight_decay=1e-6, \n",
    "    device='mps', \n",
    "    train_loader=train, \n",
    "    test_loader=valid\n",
    ")"
   ]
  },
  {
   "cell_type": "code",
   "execution_count": 5,
   "metadata": {},
   "outputs": [
    {
     "name": "stdout",
     "output_type": "stream",
     "text": [
      "Total number of trainable parameters: 4020358\n"
     ]
    }
   ],
   "source": [
    "pytorch_total_params = sum(p.numel() for p in model.parameters() if p.requires_grad)\n",
    "print(f'Total number of trainable parameters: {pytorch_total_params}')"
   ]
  },
  {
   "cell_type": "code",
   "execution_count": 6,
   "metadata": {},
   "outputs": [
    {
     "name": "stderr",
     "output_type": "stream",
     "text": [
      " 11%|█████                                         | 11/100 [03:57<32:01, 21.59s/it, TL: 0.577, TA: 0.798, VL: 0.862, VA: 0.725]"
     ]
    }
   ],
   "source": [
    "trainer.train(num_epochs=100, earlystopping=True)\n",
    "# save the model\n",
    "torch.save(trainer.model.state_dict(), '../models/efficientnet_b0.pth')"
   ]
  },
  {
   "cell_type": "code",
   "execution_count": null,
   "metadata": {},
   "outputs": [],
   "source": [
    "# test the model\n",
    "test_loss, test_acc = trainer.test(test)\n",
    "print(f'Test Loss: {test_loss:.4f}, Test Acc: {test_acc:.4f}')"
   ]
  }
 ],
 "metadata": {
  "kernelspec": {
   "display_name": ".venv",
   "language": "python",
   "name": "python3"
  },
  "language_info": {
   "codemirror_mode": {
    "name": "ipython",
    "version": 3
   },
   "file_extension": ".py",
   "mimetype": "text/x-python",
   "name": "python",
   "nbconvert_exporter": "python",
   "pygments_lexer": "ipython3",
   "version": "3.12.2"
  }
 },
 "nbformat": 4,
 "nbformat_minor": 2
}
